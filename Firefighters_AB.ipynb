{
 "cells": [
  {
   "cell_type": "markdown",
   "metadata": {},
   "source": [
    "#Outline of Project\n",
    "\n",
    "##Dashboard as a Communication Tool\n",
    "\n",
    "Here, we write some hypotheses and predictions based on work we've read in class about the efficacy of communication and rapid/accurate data transfer between agents to accomplish a task effexctively\n",
    " \n",
    "\n",
    "##Dashboard as a Fire Modelling and Recommendation Tool\n",
    "\n",
    "Here we outline the way our dashboard works to model a fire based on some data and inputs and the ways in which we can model extinguishing this fire and which team methods work better for this purpose\n",
    "\n",
    "##Putting it all together\n",
    "\n",
    "Combining these two components in the paper, we can essentialyl draw the conclusion that by improving communication and record-keeping between jumpers and dispatch, and by also being able to provide solid real-time recommendations, we can utilize multi-agent interactions coumpled with a powerful fire model to improve the effectiveness fo wildfire fighting operations by smokejumpers."
   ]
  },
  {
   "cell_type": "markdown",
   "metadata": {},
   "source": [
    "##Sequence of iterations to final product\n",
    "Mine any necessary or valuable data\n",
    "Inputs to dispatch:\n",
    "   - Location of fire\n",
    "   - Vegetation\n",
    "       - Type\n",
    "       - Flammability\n",
    "       - Weighted avg of all types of fuel\n",
    "       - Amount (volume) of fuel\n",
    "   - Size/shape of fire\n",
    "       - Mark more valuable/useful coordinates through which the fire passes\n",
    "       - Main points of the fire\n",
    "       - Where is the anchor point?\n",
    "       - 2D/3D grid of where the fire is\n",
    "   - Wind estimate\n",
    "   - Conditions estimate (dry, wet, etc)\n",
    "   - Rate of speed?\n",
    "   - Sensitive burning areas\n",
    "       - Cost estimates (if we're really fancy)\n",
    "\n",
    "Find a model that we actually want to use so that we know which of these we need and **in what format** (ie how to we store shape and size of the fire?)\n",
    "\n",
    "Outputs from dispatch:\n",
    "   - Temporal estimate of what the fire will look like look like at given time intervals (30m/1hr/2hr)\n",
    "   - Will the anchor move? Will it spread in a shape that requires more detailed information\n",
    "   - Update the grid of the fire if it exists\n",
    "   - Where to target the fire and how many people per target\n",
    "   - Stupid extension stuff:\n",
    "       - Calculate predicted cost? (if we're fancy)\n",
    "       - Compute a danger evaluation (Scale 1-100 of urgency or something)\n",
    "       - Calculate distance to base and approx flight time\n",
    "       - Provide a resources recommendation (# of fighters, # of planes, amt of fuel, level of IC)\n",
    "    \n",
    "Create a class that collects inputs from dispatch\n",
    "\n",
    "Create some function/class that can take 1-many variables and spt out some information about a fire\n",
    "\n",
    "Dashboard that takes in user input and returns a fire/fire spread model\n",
    "\n",
    "Graphical Dashboard"
   ]
  },
  {
   "cell_type": "markdown",
   "metadata": {},
   "source": [
    "###Evaluation and means of testing\n",
    "\n",
    "Given some model of the fire, most likely derived from the temperature paper, we want to make some prediction as to the best arrangement of smokejumpers to most efficiently handle the fire.\n",
    "\n",
    "This can be done by making each fighter a hypothetical \"cooling point\" and modeling what happens to the fire, essentially determining how quickly it will be put out.\n",
    "\n",
    "We can determine these cooling pts automatically by trying a bunch of combinations and finding the best one.\n",
    "\n",
    "This doesn't take into account safety of firefighters, so we should implement a safety rating that is represented by a negative reward (anything to inform realistic landing areas).\n",
    "\n",
    "On top of this, we can create 2-3 heuristic approaches to fire tackling (attack the anchor, attack the flanks, cluster together in one location, or spread out in and/or around the fire [email someone to find out possible approaches of attack])\n",
    "\n",
    "Using these heuristic approaches, we can take a couple of verieties of fire (big, small, long, round, multi-point, etc [look into finding realistic approximations]), and perhaps even getting actual fires that were recorded in alaska and using their dimensions or any info we can get on them.\n",
    "\n",
    "Then we can run the heuristic approaches on the different types of fires (based on our spread model) and evaluate how quickly the fire gets put out in each scenario and how far it spreads in the time it takes to put it out"
   ]
  },
  {
   "cell_type": "markdown",
   "metadata": {},
   "source": [
    "###Timeline\n",
    "\n",
    "####Coding component\n",
    "\n",
    "[by Apr 23] Using this paper: http://arxiv.org/pdf/0709.0086.pdf, create a Python class that is able to take fire inputs (assuming we have them) and spit out some desired output. \n",
    "\n",
    "[by Apr 25] Using not real, toy model data, make sure this model works and simulate a cooling point to see if we can actually extinguish a fire\n",
    "\n",
    "[by Apr 27] Create a presentation based on our approach, the findings above, our current prgress with the model, what we plan to do (port data, test cases, etc), and an outline of the paper\n",
    "\n",
    "[by Apr 30] Should have all of our test cases done and even tested on the toy/fake data to see if we can gather valuable results from this\n",
    "\n",
    "[by May 5] Port real data into this. Port in the vegetation and wind data and actually compute the A, B, C coeffs, and essentially have the entire coding portion completely done. Any visualization code and the actual GUI for dashboard (w/e i is) should be done by this point as well\n",
    "\n",
    "[by May 7] Finish the final writeup and submit\n",
    "\n",
    "\n",
    "####Paper component\n"
   ]
  },
  {
   "cell_type": "markdown",
   "metadata": {
    "collapsed": true
   },
   "source": [
    "## Go Time"
   ]
  },
  {
   "cell_type": "code",
   "execution_count": 1,
   "metadata": {
    "collapsed": true
   },
   "outputs": [],
   "source": [
    "import numpy as np"
   ]
  },
  {
   "cell_type": "code",
   "execution_count": 5,
   "metadata": {
    "collapsed": true
   },
   "outputs": [],
   "source": [
    "class FireModel:\n",
    "    def __init__(self, fireLayerTemp, fuelSupplyMass, thermDiffus, tempRise, propCoef, scaledCoef, fuelDispearRate, ambTemp, windSpeed):\n",
    "        self.fireLayerTemp = fireLayerTemp\n",
    "        self.fuelSupplyMass = fuelSupplyMass\n",
    "        self.thermDiffus = thermDiffus\n",
    "        self.tempRise = tempRise\n",
    "        self.propCoef = propCoef\n",
    "        self.scaledCoef = scaledCoef\n",
    "        self.fuelDispearRate = fuelDispearRate\n",
    "        self.ambTemp = ambTemp\n",
    "        self.windSpeed = windSpeed"
   ]
  },
  {
   "cell_type": "code",
   "execution_count": 8,
   "metadata": {
    "collapsed": true
   },
   "outputs": [],
   "source": [
    "def changeTemp():\n",
    "    diffusion = np.gradient(self.thermDiffus * np.gradient(self.fireLayerTemp))\n",
    "    heatAdvancedByWind = self.windSpeed * np.gradient(self.fireLayerTemp)\n",
    "    rateFuelComsumedByBurning = self.fuelSupplyMass * np.exp(-self.propCoef/(self.fireLayerTemp - self.ambTemp))\n",
    "    convectiveHeatLostAtmosphere = self.scaledCoef * (self.fireLayerTemp - self.ambTemp)\n",
    "    return diffusion - heatAdvancedByWind + self.tempRise * (rateFuelComsumedByBurning - convectiveHeatLostAtmosphere)\n"
   ]
  },
  {
   "cell_type": "code",
   "execution_count": 9,
   "metadata": {
    "collapsed": true
   },
   "outputs": [],
   "source": [
    "def changeFuelSupply():\n",
    "    expTemp = np.exp(-self.propCoef/(self.fireLayerTemp - self.ambTemp))\n",
    "    return -1 * self.fuelDispearRate * self.fuelSupplyMass * expTemp"
   ]
  },
  {
   "cell_type": "code",
   "execution_count": null,
   "metadata": {
    "collapsed": true
   },
   "outputs": [],
   "source": [
    "# Constants\n",
    "k = 0.21360 #thermDiffus\n",
    "A = 187.93 #tempRise\n",
    "B = 558.49 #propCoeff\n",
    "C = .000048372 #scaledCoeff\n",
    "Cs = .1625 #fuelDispearRate\n",
    "Tc = 1200 # Maximum Stable Combustion Temperature\n",
    "Ti = 670 # Unstable Equilibrium Point\n",
    "\n",
    "# Data-dependent variables\n",
    "T = 10. #fireLayerTemp\n",
    "S = 0.3 #fuelSupplyMass\n",
    "Ta = 189 #ambTemp\n",
    "v = 17.83 #windSpeed"
   ]
  },
  {
   "cell_type": "markdown",
   "metadata": {},
   "source": [
    "## Cellular Automata\n",
    "\n",
    "http://en.wikipedia.org/wiki/Forest-fire_model"
   ]
  },
  {
   "cell_type": "code",
   "execution_count": 100,
   "metadata": {
    "collapsed": false
   },
   "outputs": [],
   "source": [
    "import random"
   ]
  },
  {
   "cell_type": "code",
   "execution_count": 113,
   "metadata": {
    "collapsed": false
   },
   "outputs": [],
   "source": [
    "L = 10\n",
    "\n",
    "## class representation for each cell\n",
    "class Cell:\n",
    "    def __init__(self, x, y, time, veg_inten, wind_direc, wind_inten, fire_inten):\n",
    "        self.x = x\n",
    "        self.y = y\n",
    "        self.time = time\n",
    "        self.veg_inten = veg_inten # vegetation intensity (assuming the most intense, the more flammable; 0 means it can no longer catch on fire)\n",
    "        self.wind_direc = wind_direc # wind direction\n",
    "        self.wind_inten = wind_inten # wind intensity\n",
    "        self.fire_inten = fire_inten # if there is a fire in the cell, how intensly is it burning\n",
    "        \n",
    "        \n",
    "class AreaSimulation:\n",
    "    def __init__(self):\n",
    "        self.grid = {}\n",
    "        self.hood = ((-1,-1), (-1,0), (-1,1),\n",
    "                (0,-1),          (0, 1),\n",
    "                (1,-1),  (1,0),  (1,1))\n",
    "    \n",
    "    ## rewrite this\n",
    "    def initialise(self):\n",
    "        for x in range(L):\n",
    "            for y in range(L):\n",
    "                self.grid[(x,y)] = Cell(\n",
    "                    x= x,\n",
    "                    y= y,\n",
    "                    time= 0,\n",
    "                    veg_inten= random.random(),\n",
    "                    wind_direc= \"right\", ### not using this for now\n",
    "                    wind_inten= random.random(),\n",
    "                    fire_inten= 0.00    \n",
    "                )\n",
    "        ### now I'm going to \"start\" a fire in the upper left corner\n",
    "        self.grid[(1,2)].fire_inten = .55\n",
    "        self.grid[(1,1)].fire_inten = .60\n",
    "        self.grid[(2,1)].fire_inten = .31\n",
    "        \n",
    "        return self.grid\n",
    "    \n",
    "    def gnew(self):\n",
    "        newgrid = {}\n",
    "        # iterate through all the cells\n",
    "        for x in range(L):\n",
    "            for y in range(L): \n",
    "                if self.grid[(x,y)].veg_inten == 0: # no fire is possible here\n",
    "                    newgrid[(x,y)] = grid[(x,y)] ## need to update time\n",
    "                elif self.grid[(x,y)].fire_inten > 0: # cell is burning\n",
    "                    new_fire_inten = self.grid[(x,y)].fire_inten + .1\n",
    "                    newgrid[(x,y)] = Cell(\n",
    "                        x= x,\n",
    "                        y= y,\n",
    "                        time= self.grid[(x,y)].time+1,\n",
    "                        veg_inten= max(0,self.grid[(x,y)].veg_inten -.1), ## figure out a better way to decay\n",
    "                        wind_direc= self.grid[(x,y)].wind_direc,\n",
    "                        wind_inten= self.grid[(x,y)].wind_inten,\n",
    "                        # some previous intensity and a combination of surrounding intensities \n",
    "                        fire_inten= round(new_fire_inten,2)     \n",
    "                   )\n",
    "                elif self.grid[(x,y)].fire_inten == 0: # cell is not burning but can catch (assuming cells don't randomly catch fire)\n",
    "                    ## need to take into account the conditions of surrounding cells\n",
    "                    total_inten = 0\n",
    "                    for dx,dy in self.hood:\n",
    "                        if (x+dx,y+dy) in self.grid:\n",
    "                            total_inten += self.grid[(x+dx,y+dy)].fire_inten # will somehow need to handle the surrounding fire  \n",
    "                    new_fire_inten = total_inten/8 * self.grid[(x,y)].veg_inten # to do: take into account wind somehow\n",
    "                    newgrid[(x,y)] = Cell(\n",
    "                        x= x,\n",
    "                        y= y,\n",
    "                        time= self.grid[(x,y)].time+1,\n",
    "                        veg_inten= max(0,self.grid[(x,y)].veg_inten -.1), ## figure out a better way to decay\n",
    "                        wind_direc= self.grid[(x,y)].wind_direc,\n",
    "                        wind_inten= self.grid[(x,y)].wind_inten,\n",
    "                        fire_inten= round(new_fire_inten,2)     \n",
    "                   )\n",
    "        self.grid = newgrid\n",
    "        return newgrid\n",
    "\n",
    "    ## printing functions\n",
    "    def gprint(self):\n",
    "        txt = '\\n'.join(' * '.join(str(self.grid[(x,y)].fire_inten) for x in range(L))\n",
    "                         for y in range(L))\n",
    "        print(txt)\n",
    "\n",
    "#     def quickprint(self,grid):\n",
    "#         t = b = 0\n",
    "#         ll = L * L\n",
    "#         for x in range(L):\n",
    "#             for y in range(L):\n",
    "#                 if grid[(x,y)] in (tree, burning):\n",
    "#                     t += 1\n",
    "#                     if grid[(x,y)] == burning:\n",
    "#                         b += 1\n",
    "#         print(('Of %6i cells, %6i are trees of which %6i are currently burning.'\n",
    "#               + ' (%6.3f%%, %6.3f%%)')\n",
    "#               % (ll, t, b, 100. * t / ll, 100. * b / ll))"
   ]
  },
  {
   "cell_type": "code",
   "execution_count": 115,
   "metadata": {
    "collapsed": false
   },
   "outputs": [
    {
     "name": "stdout",
     "output_type": "stream",
     "text": [
      "iteration 0\n",
      "0.0 * 0.0 * 0.0 * 0.0 * 0.0 * 0.0 * 0.0 * 0.0 * 0.0 * 0.0\n",
      "0.0 * 0.6 * 0.31 * 0.0 * 0.0 * 0.0 * 0.0 * 0.0 * 0.0 * 0.0\n",
      "0.0 * 0.55 * 0.0 * 0.0 * 0.0 * 0.0 * 0.0 * 0.0 * 0.0 * 0.0\n",
      "0.0 * 0.0 * 0.0 * 0.0 * 0.0 * 0.0 * 0.0 * 0.0 * 0.0 * 0.0\n",
      "0.0 * 0.0 * 0.0 * 0.0 * 0.0 * 0.0 * 0.0 * 0.0 * 0.0 * 0.0\n",
      "0.0 * 0.0 * 0.0 * 0.0 * 0.0 * 0.0 * 0.0 * 0.0 * 0.0 * 0.0\n",
      "0.0 * 0.0 * 0.0 * 0.0 * 0.0 * 0.0 * 0.0 * 0.0 * 0.0 * 0.0\n",
      "0.0 * 0.0 * 0.0 * 0.0 * 0.0 * 0.0 * 0.0 * 0.0 * 0.0 * 0.0\n",
      "0.0 * 0.0 * 0.0 * 0.0 * 0.0 * 0.0 * 0.0 * 0.0 * 0.0 * 0.0\n",
      "0.0 * 0.0 * 0.0 * 0.0 * 0.0 * 0.0 * 0.0 * 0.0 * 0.0 * 0.0\n",
      "iteration 1\n",
      "0.04 * 0.02 * 0.01 * 0.03 * 0.0 * 0.0 * 0.0 * 0.0 * 0.0 * 0.0\n",
      "0.03 * 0.7 * 0.41 * 0.0 * 0.0 * 0.0 * 0.0 * 0.0 * 0.0 * 0.0\n",
      "0.12 * 0.65 * 0.12 * 0.04 * 0.0 * 0.0 * 0.0 * 0.0 * 0.0 * 0.0\n",
      "0.07 * 0.07 * 0.07 * 0.0 * 0.0 * 0.0 * 0.0 * 0.0 * 0.0 * 0.0\n",
      "0.0 * 0.0 * 0.0 * 0.0 * 0.0 * 0.0 * 0.0 * 0.0 * 0.0 * 0.0\n",
      "0.0 * 0.0 * 0.0 * 0.0 * 0.0 * 0.0 * 0.0 * 0.0 * 0.0 * 0.0\n",
      "0.0 * 0.0 * 0.0 * 0.0 * 0.0 * 0.0 * 0.0 * 0.0 * 0.0 * 0.0\n",
      "0.0 * 0.0 * 0.0 * 0.0 * 0.0 * 0.0 * 0.0 * 0.0 * 0.0 * 0.0\n",
      "0.0 * 0.0 * 0.0 * 0.0 * 0.0 * 0.0 * 0.0 * 0.0 * 0.0 * 0.0\n",
      "0.0 * 0.0 * 0.0 * 0.0 * 0.0 * 0.0 * 0.0 * 0.0 * 0.0 * 0.0\n",
      "iteration 2\n",
      "0.14 * 0.12 * 0.0538194828122 * 0.13 * 0.0 * 0.0 * 0.0 * 0.0 * 0.0 * 0.0\n",
      "0.13 * 0.8 * 0.51 * 0.0299368040548 * 0.00426414660643 * 0.0 * 0.0 * 0.0 * 0.0 * 0.0\n",
      "0.22 * 0.75 * 0.22 * 0.14 * 0.0 * 0.000105275169445 * 0.0 * 0.0 * 0.0 * 0.0\n",
      "0.17 * 0.17 * 0.17 * 0.01 * 0.00174241000063 * 0.0 * 0.0 * 0.0 * 0.0 * 0.0\n",
      "0.01 * 0.02 * 0.01 * 0.01 * 0.0 * 0.0 * 0.0 * 0.0 * 0.0 * 0.0\n",
      "0.0 * 0.0 * 0.0 * 0.0 * 0.0 * 0.0 * 0.0 * 0.0 * 0.0 * 0.0\n",
      "0.0 * 0.0 * 0.0 * 0.0 * 0.0 * 0.0 * 0.0 * 0.0 * 0.0 * 0.0\n",
      "-0.0 * 0.0 * 0.0 * 0.0 * 0.0 * 0.0 * 0.0 * 0.0 * 0.0 * 0.0\n",
      "0.0 * 0.0 * 0.0 * 0.0 * 0.0 * 0.0 * 0.0 * 0.0 * 0.0 * 0.0\n",
      "0.0 * -0.0 * 0.0 * 0.0 * 0.0 * 0.0 * 0.0 * 0.0 * 0.0 * 0.0\n",
      "iteration 3\n",
      "0.24 * 0.0610777831286 * 0.15 * 0.23 * 0.00257372521356 * 0.0 * 0.0 * 0.0 * 0.0 * 0.0\n",
      "0.23 * 0.9 * 0.61 * 0.13 * 0.1 * 0.0 * 0.0 * 0.0 * 0.0 * 0.0\n",
      "0.32 * 0.85 * 0.32 * 0.24 * 0.01 * 0.1 * 0.0 * 0.0 * 0.0 * -0.0\n",
      "0.27 * 0.27 * 0.27 * 0.11 * 0.1 * 0.0 * 0.0 * 0.0 * -0.0 * 0.0\n",
      "0.11 * 0.12 * 0.11 * 0.11 * 0.0 * 0.0 * 0.0 * 0.0 * -0.0 * 0.0\n",
      "0.0 * 0.0 * 0.0 * 0.0 * 0.0 * 0.0 * 0.0 * 0.0 * 0.0 * 0.0\n",
      "0.0 * 0.0 * 0.0 * 0.0 * 0.0 * 0.0 * 0.0 * 0.0 * 0.0 * 0.0\n",
      "-0.0 * 0.0 * 0.0 * 0.0 * 0.0 * 0.0 * 0.0 * 0.0 * 0.0 * 0.0\n",
      "0.0 * 0.0 * 0.0 * 0.0 * 0.0 * 0.0 * 0.0 * 0.0 * 0.0 * 0.0\n",
      "0.0 * -0.0 * 0.0 * 0.0 * 0.0 * 0.0 * 0.0 * 0.0 * 0.0 * 0.0\n",
      "iteration 4\n",
      "0.34 * 0.16 * 0.25 * 0.33 * 0.1 * 0.01 * 0.0 * 0.0 * 0.0 * 0.0\n",
      "0.0559347295263 * 1.0 * 0.71 * 0.0299368040548 * 0.2 * 0.02 * 0.0 * 0.0 * 0.0 * 0.0\n",
      "0.42 * 0.95 * 0.42 * 0.34 * 0.11 * 0.2 * 0.0 * 0.0 * -0.0 * 0.0\n",
      "0.37 * 0.37 * 0.37 * 0.21 * 0.2 * 0.02 * 0.0 * 0.0 * -0.0 * 0.0\n",
      "0.21 * 0.22 * 0.21 * 0.21 * 0.03 * 0.01 * 0.0 * 0.0 * -0.0 * 0.0\n",
      "0.01 * 0.02 * 0.02 * 0.01 * 1.4909779283e-05 * 0.0 * 0.0 * -0.0 * 0.0 * 0.0\n",
      "0.0 * 0.0 * 0.0 * 0.0 * 0.0 * 0.0 * 0.0 * 0.0 * 0.0 * 0.0\n",
      "-0.0 * 0.0 * 0.0 * 0.0 * 0.0 * 0.0 * 0.0 * 0.0 * 0.0 * 0.0\n",
      "0.0 * 0.0 * 0.0 * 0.0 * 0.0 * 0.0 * 0.0 * 0.0 * 0.0 * 0.0\n",
      "0.0 * -0.0 * 0.0 * 0.0 * 0.0 * 0.0 * 0.0 * 0.0 * 0.0 * 0.0\n"
     ]
    }
   ],
   "source": [
    "sim = AreaSimulation()\n",
    "sim.initialise()\n",
    "iters = 5\n",
    "for i in range(iters):\n",
    "    #sim.quickprint(grid)\n",
    "    print \"iteration\",i\n",
    "    sim.gprint()\n",
    "    sim.gnew()"
   ]
  },
  {
   "cell_type": "code",
   "execution_count": null,
   "metadata": {
    "collapsed": true
   },
   "outputs": [],
   "source": []
  }
 ],
 "metadata": {
  "kernelspec": {
   "display_name": "Python 2",
   "language": "python",
   "name": "python2"
  },
  "language_info": {
   "codemirror_mode": {
    "name": "ipython",
    "version": 2
   },
   "file_extension": ".py",
   "mimetype": "text/x-python",
   "name": "python",
   "nbconvert_exporter": "python",
   "pygments_lexer": "ipython2",
   "version": "2.7.9"
  }
 },
 "nbformat": 4,
 "nbformat_minor": 0
}
