{
 "cells": [
  {
   "cell_type": "markdown",
   "metadata": {},
   "source": [
    "#Outline of Project\n",
    "\n",
    "##Dashboard as a Communication Tool\n",
    "\n",
    "Here, we write some hypotheses and predictions based on work we've read in class about the efficacy of communication and rapid/accurate data transfer between agents to accomplish a task effexctively\n",
    " \n",
    "\n",
    "##Dashboard as a Fire Modelling and Recommendation Tool\n",
    "\n",
    "Here we outline the way our dashboard works to model a fire based on some data and inputs and the ways in which we can model extinguishing this fire and which team methods work better for this purpose\n",
    "\n",
    "##Putting it all together\n"
   ]
  },
  {
   "cell_type": "markdown",
   "metadata": {},
   "source": [
    "##Sequence of iterations to final product\n",
    "Mine any necessary or valuable data\n",
    "Inputs to dispatch:\n",
    "   - Location of fire\n",
    "   - Vegetation\n",
    "       - Type\n",
    "       - Flammability\n",
    "       - Weighted avg of all types of fuel\n",
    "       - Amount (volume) of fuel\n",
    "   - Size/shape of fire\n",
    "       - Mark more valuable/useful coordinates through which the fire passes\n",
    "       - Main points of the fire\n",
    "       - Where is the anchor point?\n",
    "       - 2D/3D grid of where the fire is\n",
    "   - Wind estimate\n",
    "   - Conditions estimate (dry, wet, etc)\n",
    "   - Rate of speed?\n",
    "   - Sensitive burning areas\n",
    "       - Cost estimates (if we're really fancy)\n",
    "\n",
    "Find a model that we actually want to use so that we know which of these we need and **in what format** (ie how to we store shape and size of the fire?)\n",
    "\n",
    "Outputs from dispatch:\n",
    "   - Temporal estimate of what the fire will look like look like at given time intervals (30m/1hr/2hr)\n",
    "   - Will the anchor move? Will it spread in a shape that requires more detailed information\n",
    "   - Update the grid of the fire if it exists\n",
    "   - Where to target the fire and how many people per target\n",
    "   - Stupid extension stuff:\n",
    "       - Calculate predicted cost? (if we're fancy)\n",
    "       - Compute a danger evaluation (Scale 1-100 of urgency or something)\n",
    "       - Calculate distance to base and approx flight time\n",
    "       - Provide a resources recommendation (# of fighters, # of planes, amt of fuel, level of IC)\n",
    "    \n",
    "Create a class that collects inputs from dispatch\n",
    "\n",
    "Create some function/class that can take 1-many variables and spt out some information about a fire\n",
    "\n",
    "Dashboard that takes in user input and returns a fire/fire spread model\n",
    "\n",
    "Graphical Dashboard"
   ]
  },
  {
   "cell_type": "markdown",
   "metadata": {},
   "source": [
    "###Evaluation and means of testing\n",
    "\n",
    "Given some model of the fire, most likely derived from the temperature paper, we want to make some prediction as to the best arrangement of smokejumpers to most efficiently handle the fire.\n",
    "\n",
    "This can be done by making each fighter a hypothetical \"cooling point\" and modeling what happens to the fire, essentially determining how quickly it will be put out.\n",
    "\n",
    "We can determine these cooling pts automatically by trying a bunch of combinations and finding the best one.\n",
    "\n",
    "This doesn't take into account safety of firefighters, so we should implement a safety rating that is represented by a negative reward (anything to inform realistic landing areas).\n",
    "\n",
    "On top of this, we can create 2-3 heuristic approaches to fire tackling (attack the anchor, attack the flanks, cluster together in one location, or spread out in and/or around the fire [email someone to find out possible approaches of attack])\n",
    "\n",
    "Using these heuristic approaches, we can take a couple of verieties of fire (big, small, long, round, multi-point, etc [look into finding realistic approximations]), and perhaps even getting actual fires that were recorded in alaska and using their dimensions or any info we can get on them.\n",
    "\n",
    "Then we can run the heuristic approaches on the different types of fires (based on our spread model) and evaluate how quickly the fire gets put out in each scenario and how far it spreads in the time it takes to put it out"
   ]
  },
  {
   "cell_type": "code",
   "execution_count": null,
   "metadata": {
    "collapsed": true
   },
   "outputs": [],
   "source": []
  }
 ],
 "metadata": {
  "kernelspec": {
   "display_name": "Python 2",
   "language": "python",
   "name": "python2"
  },
  "language_info": {
   "codemirror_mode": {
    "name": "ipython",
    "version": 2
   },
   "file_extension": ".py",
   "mimetype": "text/x-python",
   "name": "python",
   "nbconvert_exporter": "python",
   "pygments_lexer": "ipython2",
   "version": "2.7.8"
  }
 },
 "nbformat": 4,
 "nbformat_minor": 0
}
